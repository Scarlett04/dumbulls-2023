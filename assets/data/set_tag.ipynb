{
 "cells": [
  {
   "cell_type": "code",
   "execution_count": 54,
   "metadata": {},
   "outputs": [],
   "source": [
    "import pandas as pd\n",
    "import numpy as np\n",
    "import math\n",
    "\n",
    "pd.set_option('display.max_columns', None)"
   ]
  },
  {
   "cell_type": "code",
   "execution_count": 55,
   "metadata": {},
   "outputs": [],
   "source": [
    "df = pd.read_csv(\"Course Inventory.csv\")"
   ]
  },
  {
   "cell_type": "code",
   "execution_count": 56,
   "metadata": {},
   "outputs": [],
   "source": [
    "df.drop_duplicates(inplace=True)\n",
    "df.dropna(inplace=True)"
   ]
  },
  {
   "cell_type": "code",
   "execution_count": 57,
   "metadata": {},
   "outputs": [
    {
     "data": {
      "text/html": [
       "<div>\n",
       "<style scoped>\n",
       "    .dataframe tbody tr th:only-of-type {\n",
       "        vertical-align: middle;\n",
       "    }\n",
       "\n",
       "    .dataframe tbody tr th {\n",
       "        vertical-align: top;\n",
       "    }\n",
       "\n",
       "    .dataframe thead th {\n",
       "        text-align: right;\n",
       "    }\n",
       "</style>\n",
       "<table border=\"1\" class=\"dataframe\">\n",
       "  <thead>\n",
       "    <tr style=\"text-align: right;\">\n",
       "      <th></th>\n",
       "      <th>College</th>\n",
       "      <th>Department</th>\n",
       "      <th>Prefix</th>\n",
       "      <th>Number</th>\n",
       "      <th>Title</th>\n",
       "    </tr>\n",
       "  </thead>\n",
       "  <tbody>\n",
       "    <tr>\n",
       "      <th>1</th>\n",
       "      <td>Muma College of Business</td>\n",
       "      <td>Dean's Office (BU)</td>\n",
       "      <td>ACG</td>\n",
       "      <td>5007</td>\n",
       "      <td>MBA Essentials: Accounting</td>\n",
       "    </tr>\n",
       "    <tr>\n",
       "      <th>2</th>\n",
       "      <td>Muma College of Business</td>\n",
       "      <td>Dean's Office (BU)</td>\n",
       "      <td>ECO</td>\n",
       "      <td>5060</td>\n",
       "      <td>MBA Essentials: Economics</td>\n",
       "    </tr>\n",
       "    <tr>\n",
       "      <th>3</th>\n",
       "      <td>Muma College of Business</td>\n",
       "      <td>Dean's Office (BU)</td>\n",
       "      <td>ECO</td>\n",
       "      <td>6419</td>\n",
       "      <td>Managerial Analysis</td>\n",
       "    </tr>\n",
       "    <tr>\n",
       "      <th>4</th>\n",
       "      <td>Muma College of Business</td>\n",
       "      <td>Dean's Office (BU)</td>\n",
       "      <td>FIN</td>\n",
       "      <td>5006</td>\n",
       "      <td>MBA Essentials: Finance</td>\n",
       "    </tr>\n",
       "    <tr>\n",
       "      <th>5</th>\n",
       "      <td>Muma College of Business</td>\n",
       "      <td>Dean's Office (BU)</td>\n",
       "      <td>GEB</td>\n",
       "      <td>6458</td>\n",
       "      <td>Managing Global Sustainability</td>\n",
       "    </tr>\n",
       "    <tr>\n",
       "      <th>6</th>\n",
       "      <td>Muma College of Business</td>\n",
       "      <td>Dean's Office (BU)</td>\n",
       "      <td>GEB</td>\n",
       "      <td>7980</td>\n",
       "      <td>Dissertation</td>\n",
       "    </tr>\n",
       "    <tr>\n",
       "      <th>7</th>\n",
       "      <td>Muma College of Business</td>\n",
       "      <td>Dean's Office (BU)</td>\n",
       "      <td>GEB</td>\n",
       "      <td>7982</td>\n",
       "      <td>Research Skills</td>\n",
       "    </tr>\n",
       "    <tr>\n",
       "      <th>8</th>\n",
       "      <td>Muma College of Business</td>\n",
       "      <td>Dean's Office (BU)</td>\n",
       "      <td>ISM</td>\n",
       "      <td>5001</td>\n",
       "      <td>MBA Essentials: Management Information Systems</td>\n",
       "    </tr>\n",
       "    <tr>\n",
       "      <th>9</th>\n",
       "      <td>Muma College of Business</td>\n",
       "      <td>Dean's Office (BU)</td>\n",
       "      <td>MAN</td>\n",
       "      <td>5002</td>\n",
       "      <td>MBA Essentials: Management</td>\n",
       "    </tr>\n",
       "    <tr>\n",
       "      <th>10</th>\n",
       "      <td>Muma College of Business</td>\n",
       "      <td>Dean's Office (BU)</td>\n",
       "      <td>MAN</td>\n",
       "      <td>5509</td>\n",
       "      <td>MBA Essentials: Operations Management</td>\n",
       "    </tr>\n",
       "  </tbody>\n",
       "</table>\n",
       "</div>"
      ],
      "text/plain": [
       "                     College          Department Prefix Number  \\\n",
       "1   Muma College of Business  Dean's Office (BU)    ACG   5007   \n",
       "2   Muma College of Business  Dean's Office (BU)    ECO   5060   \n",
       "3   Muma College of Business  Dean's Office (BU)    ECO   6419   \n",
       "4   Muma College of Business  Dean's Office (BU)    FIN   5006   \n",
       "5   Muma College of Business  Dean's Office (BU)    GEB   6458   \n",
       "6   Muma College of Business  Dean's Office (BU)    GEB   7980   \n",
       "7   Muma College of Business  Dean's Office (BU)    GEB   7982   \n",
       "8   Muma College of Business  Dean's Office (BU)    ISM   5001   \n",
       "9   Muma College of Business  Dean's Office (BU)    MAN   5002   \n",
       "10  Muma College of Business  Dean's Office (BU)    MAN   5509   \n",
       "\n",
       "                                             Title  \n",
       "1                       MBA Essentials: Accounting  \n",
       "2                        MBA Essentials: Economics  \n",
       "3                              Managerial Analysis  \n",
       "4                          MBA Essentials: Finance  \n",
       "5                   Managing Global Sustainability  \n",
       "6                                     Dissertation  \n",
       "7                                  Research Skills  \n",
       "8   MBA Essentials: Management Information Systems  \n",
       "9                       MBA Essentials: Management  \n",
       "10           MBA Essentials: Operations Management  "
      ]
     },
     "execution_count": 57,
     "metadata": {},
     "output_type": "execute_result"
    }
   ],
   "source": [
    "df.head(10)"
   ]
  },
  {
   "cell_type": "code",
   "execution_count": 58,
   "metadata": {},
   "outputs": [
    {
     "data": {
      "text/plain": [
       "Index(['College', 'Department', 'Prefix', 'Number', 'Title'], dtype='object')"
      ]
     },
     "execution_count": 58,
     "metadata": {},
     "output_type": "execute_result"
    }
   ],
   "source": [
    "df.columns"
   ]
  },
  {
   "cell_type": "code",
   "execution_count": 59,
   "metadata": {},
   "outputs": [
    {
     "data": {
      "text/plain": [
       "array(['Muma College of Business',\n",
       "       'Patel College of Global Sustainability',\n",
       "       'Morsani College of Medicine', 'College of Nursing',\n",
       "       'Taneja College of Pharmacy',\n",
       "       'College of Arts and Sciences: School of Social Sciences',\n",
       "       'College of Arts and Sciences',\n",
       "       'College of Arts and Sciences: School of Natural Sciences and Mathematics',\n",
       "       'College of Engineering',\n",
       "       'College of Behavioral and Community Sciences',\n",
       "       'College of Arts and Sciences: School of Humanities',\n",
       "       'College of Education', 'College of Marine Science',\n",
       "       'College of Public Health', 'College of The Arts'], dtype=object)"
      ]
     },
     "execution_count": 59,
     "metadata": {},
     "output_type": "execute_result"
    }
   ],
   "source": [
    "df['College'].unique()"
   ]
  },
  {
   "cell_type": "code",
   "execution_count": 60,
   "metadata": {},
   "outputs": [],
   "source": [
    "def set_tags(college):\n",
    "    business_colleges = {\n",
    "        \"Dean's Office (BU)\",\n",
    "        \"Department of Economics\",\n",
    "        \"Kate Tiedemann School of Business and Finance\",\n",
    "        \"Lynn Pippenger School of Accountancy\",\n",
    "        \"School of Hospitality and Tourism Management\",\n",
    "        \"School of Marketing and Innovation\"\n",
    "    }\n",
    "    global_sustainability_colleges = {\n",
    "        \"Dean's Office (CS)\",\n",
    "        \"School of Public Affairs\",\n",
    "        \"School of Social Work\"\n",
    "    }\n",
    "    health_colleges = {\n",
    "        \"Dean's Office (MD)\",\n",
    "        \"Dean's Office (NR)\",\n",
    "        \"Dean's Office (RX)\",\n",
    "        \"Department of Medical Engineering\",\n",
    "        \"Department of Medical Sciences\",\n",
    "        \"Department of Medicine-General\",\n",
    "        \"Department of Nursing\",\n",
    "        \"School of Physical Therapy and Rehabilitation Sciences\",\n",
    "        \"Department of Orthopaedics and Sports Medicine\",\n",
    "        \"Department of Pharmacy\",\n",
    "        \"Department of Public Health\"\n",
    "    }\n",
    "    natural_science_colleges = {\n",
    "        \"Department of Cell Biology, Microbiology, and Molecular Biology\",\n",
    "        \"Department of Chemical, Biological and Materials Engineering\",\n",
    "        \"Department of Chemistry\",\n",
    "        \"Department of Integrative Biology\",\n",
    "        \"Department of Marine Science\",\n",
    "        \"Department of Mathematics and Statistics\",\n",
    "        \"Department of Physics\",\n",
    "        \"School of Geosciences\"\n",
    "    }\n",
    "    culture_colleges = {\n",
    "        \"Department of Anthropology\",\n",
    "        \"Department of History\",\n",
    "        \"Department of Humanities and Cultural Studies\",\n",
    "        \"School of Interdisciplinary Global Studies\",\n",
    "        \"Department of Philosophy\",\n",
    "        \"Department of Religious Studies\",\n",
    "        \"Department of Psychology\",\n",
    "        \"Department of Sociology and Interdisciplinary Social Sciences\",\n",
    "        \"Department of Women's and Gender Studies\",\n",
    "        \"School of Theatre and Dance\",\n",
    "        \"School of Aging Studies\",\n",
    "        \"School of Art and Art History\",\n",
    "        \"Zimmerman School of Advertising and Mass Communications\",\n",
    "        \"School of Music\"\n",
    "    }\n",
    "    behavioral_colleges = {\n",
    "        \"Department of Child and Family Studies\",\n",
    "        \"Department of Mental Health Law and Policy\"\n",
    "    }\n",
    "    civil_engineering_colleges = {\n",
    "        \"Department of Civil and Environmental Engineering\",\n",
    "        \"School of Architecture and Community Design\"\n",
    "    }\n",
    "    electrical_mechanical_colleges = {\n",
    "        \"Department of Electrical Engineering\",\n",
    "        \"Department of Mechanical Engineering\"\n",
    "    }\n",
    "    communication_colleges = {\n",
    "        \"Department of Communication\",\n",
    "        \"Department of Communication Sciences and Disorders\",\n",
    "        \"Department of English\",\n",
    "        \"Department of World Languages\"\n",
    "    }\n",
    "    technology_colleges = {\n",
    "        \"Department of Computer Science and Engineering\",\n",
    "        \"Department of Industrial and Management Systems Engineering\",\n",
    "        \"School of Information\",\n",
    "        \"School of Information Systems and Management\"\n",
    "    }\n",
    "    criminology_colleges = {\n",
    "        \"Department of Criminology\"\n",
    "    }\n",
    "    education_colleges = {\n",
    "        \"Department of Curriculum, Instruction, and Learning\",\n",
    "        \"Department of Educational and Psychological Studies\",\n",
    "        \"Department of Leadership, Policy, and Lifelong Learning\"\n",
    "    }\n",
    "\n",
    "    if college in business_colleges:\n",
    "        return \"Business\"\n",
    "    elif college in global_sustainability_colleges:\n",
    "        return \"Global Sustainability\"\n",
    "    elif college in health_colleges:\n",
    "        return \"Health\"\n",
    "    elif college in natural_science_colleges:\n",
    "        return \"Natural Science\"\n",
    "    elif college in culture_colleges:\n",
    "        return \"Culture\"\n",
    "    elif college in behavioral_colleges:\n",
    "        return \"Behavioral\"\n",
    "    elif college in civil_engineering_colleges:\n",
    "        return \"Civil Engineering\"\n",
    "    elif college in electrical_mechanical_colleges:\n",
    "        return \"Electrical & Mechanical Engineering\"\n",
    "    elif college in communication_colleges:\n",
    "        return \"Communication\"\n",
    "    elif college in technology_colleges:\n",
    "        return \"Technology\"\n",
    "    elif college in criminology_colleges:\n",
    "        return \"Criminology\"\n",
    "    elif college in education_colleges:\n",
    "        return \"Education\"\n",
    "    else:\n",
    "        return \"Other\"\n"
   ]
  },
  {
   "cell_type": "code",
   "execution_count": 61,
   "metadata": {},
   "outputs": [],
   "source": [
    "df['tags'] = df['Department'].apply(set_tags)"
   ]
  },
  {
   "cell_type": "code",
   "execution_count": 62,
   "metadata": {},
   "outputs": [],
   "source": [
    "df.loc[df['tags'] == 'Other', 'tags'] = \"Natural Science\""
   ]
  },
  {
   "cell_type": "code",
   "execution_count": 63,
   "metadata": {},
   "outputs": [
    {
     "data": {
      "text/plain": [
       "array(['Business', 'Global Sustainability', 'Health', 'Culture',\n",
       "       'Natural Science', 'Behavioral', 'Civil Engineering',\n",
       "       'Communication', 'Technology', 'Criminology', 'Education',\n",
       "       'Electrical & Mechanical Engineering'], dtype=object)"
      ]
     },
     "execution_count": 63,
     "metadata": {},
     "output_type": "execute_result"
    }
   ],
   "source": [
    "df['tags'].unique()"
   ]
  },
  {
   "cell_type": "code",
   "execution_count": 64,
   "metadata": {},
   "outputs": [
    {
     "data": {
      "text/html": [
       "<div>\n",
       "<style scoped>\n",
       "    .dataframe tbody tr th:only-of-type {\n",
       "        vertical-align: middle;\n",
       "    }\n",
       "\n",
       "    .dataframe tbody tr th {\n",
       "        vertical-align: top;\n",
       "    }\n",
       "\n",
       "    .dataframe thead th {\n",
       "        text-align: right;\n",
       "    }\n",
       "</style>\n",
       "<table border=\"1\" class=\"dataframe\">\n",
       "  <thead>\n",
       "    <tr style=\"text-align: right;\">\n",
       "      <th></th>\n",
       "      <th>College</th>\n",
       "      <th>Department</th>\n",
       "      <th>Prefix</th>\n",
       "      <th>Number</th>\n",
       "      <th>Title</th>\n",
       "      <th>tags</th>\n",
       "    </tr>\n",
       "  </thead>\n",
       "  <tbody>\n",
       "    <tr>\n",
       "      <th>1</th>\n",
       "      <td>Muma College of Business</td>\n",
       "      <td>Dean's Office (BU)</td>\n",
       "      <td>ACG</td>\n",
       "      <td>5007</td>\n",
       "      <td>MBA Essentials: Accounting</td>\n",
       "      <td>Business</td>\n",
       "    </tr>\n",
       "    <tr>\n",
       "      <th>2</th>\n",
       "      <td>Muma College of Business</td>\n",
       "      <td>Dean's Office (BU)</td>\n",
       "      <td>ECO</td>\n",
       "      <td>5060</td>\n",
       "      <td>MBA Essentials: Economics</td>\n",
       "      <td>Business</td>\n",
       "    </tr>\n",
       "    <tr>\n",
       "      <th>3</th>\n",
       "      <td>Muma College of Business</td>\n",
       "      <td>Dean's Office (BU)</td>\n",
       "      <td>ECO</td>\n",
       "      <td>6419</td>\n",
       "      <td>Managerial Analysis</td>\n",
       "      <td>Business</td>\n",
       "    </tr>\n",
       "    <tr>\n",
       "      <th>4</th>\n",
       "      <td>Muma College of Business</td>\n",
       "      <td>Dean's Office (BU)</td>\n",
       "      <td>FIN</td>\n",
       "      <td>5006</td>\n",
       "      <td>MBA Essentials: Finance</td>\n",
       "      <td>Business</td>\n",
       "    </tr>\n",
       "    <tr>\n",
       "      <th>5</th>\n",
       "      <td>Muma College of Business</td>\n",
       "      <td>Dean's Office (BU)</td>\n",
       "      <td>GEB</td>\n",
       "      <td>6458</td>\n",
       "      <td>Managing Global Sustainability</td>\n",
       "      <td>Business</td>\n",
       "    </tr>\n",
       "  </tbody>\n",
       "</table>\n",
       "</div>"
      ],
      "text/plain": [
       "                    College          Department Prefix Number  \\\n",
       "1  Muma College of Business  Dean's Office (BU)    ACG   5007   \n",
       "2  Muma College of Business  Dean's Office (BU)    ECO   5060   \n",
       "3  Muma College of Business  Dean's Office (BU)    ECO   6419   \n",
       "4  Muma College of Business  Dean's Office (BU)    FIN   5006   \n",
       "5  Muma College of Business  Dean's Office (BU)    GEB   6458   \n",
       "\n",
       "                            Title      tags  \n",
       "1      MBA Essentials: Accounting  Business  \n",
       "2       MBA Essentials: Economics  Business  \n",
       "3             Managerial Analysis  Business  \n",
       "4         MBA Essentials: Finance  Business  \n",
       "5  Managing Global Sustainability  Business  "
      ]
     },
     "execution_count": 64,
     "metadata": {},
     "output_type": "execute_result"
    }
   ],
   "source": [
    "df.head()"
   ]
  },
  {
   "cell_type": "code",
   "execution_count": 65,
   "metadata": {},
   "outputs": [],
   "source": [
    "df['courses'] = df['Prefix'] + \" \" + df['Number'].astype(str)"
   ]
  },
  {
   "cell_type": "code",
   "execution_count": 66,
   "metadata": {},
   "outputs": [],
   "source": [
    "df.drop(columns=['Prefix', 'Number'], inplace=True)"
   ]
  },
  {
   "cell_type": "code",
   "execution_count": 67,
   "metadata": {},
   "outputs": [],
   "source": [
    "df.to_csv(\"courses_modified.csv\", index=range(len(df)))"
   ]
  }
 ],
 "metadata": {
  "kernelspec": {
   "display_name": "Python 3",
   "language": "python",
   "name": "python3"
  },
  "language_info": {
   "codemirror_mode": {
    "name": "ipython",
    "version": 3
   },
   "file_extension": ".py",
   "mimetype": "text/x-python",
   "name": "python",
   "nbconvert_exporter": "python",
   "pygments_lexer": "ipython3",
   "version": "3.9.0"
  },
  "orig_nbformat": 4
 },
 "nbformat": 4,
 "nbformat_minor": 2
}
